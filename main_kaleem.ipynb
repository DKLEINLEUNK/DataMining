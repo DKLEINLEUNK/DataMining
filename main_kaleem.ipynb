{
 "cells": [
  {
   "cell_type": "code",
   "execution_count": 4,
   "metadata": {},
   "outputs": [],
   "source": [
    "from scripts import fix_features \n",
    "from scripts import classify_regress\n",
    "MEDIA_PATH = 'plots/'"
   ]
  },
  {
   "cell_type": "code",
   "execution_count": 5,
   "metadata": {},
   "outputs": [
    {
     "name": "stdout",
     "output_type": "stream",
     "text": [
      "['circumplex.valence', 'circumplex.arousal', 'activity', 'screen', 'appCat.communication', 'appCat.entertainment', 'appCat.social', 'avg_mood']\n"
     ]
    },
    {
     "data": {
      "text/html": [
       "<div>\n",
       "<style scoped>\n",
       "    .dataframe tbody tr th:only-of-type {\n",
       "        vertical-align: middle;\n",
       "    }\n",
       "\n",
       "    .dataframe tbody tr th {\n",
       "        vertical-align: top;\n",
       "    }\n",
       "\n",
       "    .dataframe thead th {\n",
       "        text-align: right;\n",
       "    }\n",
       "</style>\n",
       "<table border=\"1\" class=\"dataframe\">\n",
       "  <thead>\n",
       "    <tr style=\"text-align: right;\">\n",
       "      <th></th>\n",
       "      <th>id</th>\n",
       "      <th>date</th>\n",
       "      <th>daily_mood</th>\n",
       "      <th>avg_mood</th>\n",
       "      <th>activity</th>\n",
       "      <th>appCat.communication</th>\n",
       "      <th>appCat.entertainment</th>\n",
       "      <th>appCat.social</th>\n",
       "      <th>circumplex.arousal</th>\n",
       "      <th>circumplex.valence</th>\n",
       "      <th>screen</th>\n",
       "      <th>mood_category</th>\n",
       "    </tr>\n",
       "  </thead>\n",
       "  <tbody>\n",
       "    <tr>\n",
       "      <th>0</th>\n",
       "      <td>AS14.01</td>\n",
       "      <td>2014-02-26</td>\n",
       "      <td>6.250000</td>\n",
       "      <td>7.02</td>\n",
       "      <td>0.095634</td>\n",
       "      <td>38.594780</td>\n",
       "      <td>48.245667</td>\n",
       "      <td>54.139183</td>\n",
       "      <td>-0.25</td>\n",
       "      <td>0.750000</td>\n",
       "      <td>65.300069</td>\n",
       "      <td>bad</td>\n",
       "    </tr>\n",
       "    <tr>\n",
       "      <th>1</th>\n",
       "      <td>AS14.01</td>\n",
       "      <td>2014-02-27</td>\n",
       "      <td>6.333333</td>\n",
       "      <td>7.02</td>\n",
       "      <td>0.095634</td>\n",
       "      <td>38.594780</td>\n",
       "      <td>48.245667</td>\n",
       "      <td>54.139183</td>\n",
       "      <td>0.00</td>\n",
       "      <td>0.333333</td>\n",
       "      <td>65.300069</td>\n",
       "      <td>bad</td>\n",
       "    </tr>\n",
       "    <tr>\n",
       "      <th>2</th>\n",
       "      <td>AS14.01</td>\n",
       "      <td>2014-03-21</td>\n",
       "      <td>6.200000</td>\n",
       "      <td>7.02</td>\n",
       "      <td>0.134050</td>\n",
       "      <td>55.095526</td>\n",
       "      <td>53.024000</td>\n",
       "      <td>75.141667</td>\n",
       "      <td>0.20</td>\n",
       "      <td>0.200000</td>\n",
       "      <td>153.665872</td>\n",
       "      <td>bad</td>\n",
       "    </tr>\n",
       "    <tr>\n",
       "      <th>3</th>\n",
       "      <td>AS14.01</td>\n",
       "      <td>2014-03-22</td>\n",
       "      <td>6.400000</td>\n",
       "      <td>7.02</td>\n",
       "      <td>0.236880</td>\n",
       "      <td>51.697062</td>\n",
       "      <td>46.662000</td>\n",
       "      <td>36.636000</td>\n",
       "      <td>0.60</td>\n",
       "      <td>0.500000</td>\n",
       "      <td>47.613651</td>\n",
       "      <td>bad</td>\n",
       "    </tr>\n",
       "    <tr>\n",
       "      <th>4</th>\n",
       "      <td>AS14.01</td>\n",
       "      <td>2014-03-23</td>\n",
       "      <td>6.800000</td>\n",
       "      <td>7.02</td>\n",
       "      <td>0.142741</td>\n",
       "      <td>53.442031</td>\n",
       "      <td>31.448667</td>\n",
       "      <td>50.046611</td>\n",
       "      <td>0.20</td>\n",
       "      <td>0.800000</td>\n",
       "      <td>67.067644</td>\n",
       "      <td>bad</td>\n",
       "    </tr>\n",
       "  </tbody>\n",
       "</table>\n",
       "</div>"
      ],
      "text/plain": [
       "        id        date  daily_mood  avg_mood  activity  appCat.communication  \\\n",
       "0  AS14.01  2014-02-26    6.250000      7.02  0.095634             38.594780   \n",
       "1  AS14.01  2014-02-27    6.333333      7.02  0.095634             38.594780   \n",
       "2  AS14.01  2014-03-21    6.200000      7.02  0.134050             55.095526   \n",
       "3  AS14.01  2014-03-22    6.400000      7.02  0.236880             51.697062   \n",
       "4  AS14.01  2014-03-23    6.800000      7.02  0.142741             53.442031   \n",
       "\n",
       "   appCat.entertainment  appCat.social  circumplex.arousal  \\\n",
       "0             48.245667      54.139183               -0.25   \n",
       "1             48.245667      54.139183                0.00   \n",
       "2             53.024000      75.141667                0.20   \n",
       "3             46.662000      36.636000                0.60   \n",
       "4             31.448667      50.046611                0.20   \n",
       "\n",
       "   circumplex.valence      screen mood_category  \n",
       "0            0.750000   65.300069           bad  \n",
       "1            0.333333   65.300069           bad  \n",
       "2            0.200000  153.665872           bad  \n",
       "3            0.500000   47.613651           bad  \n",
       "4            0.800000   67.067644           bad  "
      ]
     },
     "execution_count": 5,
     "metadata": {},
     "output_type": "execute_result"
    }
   ],
   "source": [
    "predictors = classify_regress.predictors.copy()\n",
    "predictors.append(\"avg_mood\")\n",
    "print(predictors)\n",
    "data_clean = fix_features.get_clean_data()\n",
    "data = fix_features.read_data()\n",
    "data_clean.head()"
   ]
  },
  {
   "cell_type": "markdown",
   "metadata": {},
   "source": [
    "### Support Vector Classification"
   ]
  },
  {
   "cell_type": "markdown",
   "metadata": {},
   "source": [
    "**Without average mood**"
   ]
  },
  {
   "cell_type": "code",
   "execution_count": 6,
   "metadata": {},
   "outputs": [
    {
     "data": {
      "text/plain": [
       "0.7283464566929134"
      ]
     },
     "execution_count": 6,
     "metadata": {},
     "output_type": "execute_result"
    }
   ],
   "source": [
    "# Without average mood\n",
    "y_test, y_pred, SVC_accuracy = classify_regress.conduct_SVC(data_clean, classify_regress.predictors)\n",
    "SVC_accuracy"
   ]
  },
  {
   "cell_type": "markdown",
   "metadata": {},
   "source": [
    "**With average mood**"
   ]
  },
  {
   "cell_type": "code",
   "execution_count": 7,
   "metadata": {},
   "outputs": [
    {
     "data": {
      "text/plain": [
       "0.7480314960629921"
      ]
     },
     "execution_count": 7,
     "metadata": {},
     "output_type": "execute_result"
    }
   ],
   "source": [
    "data_clean = fix_features.get_clean_data()\n",
    "data = fix_features.read_data()\n",
    "# Without average mood\n",
    "y_test, y_pred, SVC_accuracy = classify_regress.conduct_SVC(data_clean, predictors)\n",
    "SVC_accuracy"
   ]
  },
  {
   "cell_type": "markdown",
   "metadata": {},
   "source": [
    "Confusion Matrix"
   ]
  },
  {
   "cell_type": "code",
   "execution_count": 8,
   "metadata": {},
   "outputs": [
    {
     "data": {
      "text/plain": [
       "0.0583596214511041"
      ]
     },
     "execution_count": 8,
     "metadata": {},
     "output_type": "execute_result"
    }
   ],
   "source": [
    "sum(data_clean['daily_mood'] < 6)/len(data_clean)"
   ]
  },
  {
   "cell_type": "code",
   "execution_count": 9,
   "metadata": {},
   "outputs": [
    {
     "data": {
      "text/plain": [
       "488"
      ]
     },
     "execution_count": 9,
     "metadata": {},
     "output_type": "execute_result"
    }
   ],
   "source": [
    "sum(data_clean['daily_mood'] < 7)"
   ]
  },
  {
   "cell_type": "code",
   "execution_count": 10,
   "metadata": {},
   "outputs": [
    {
     "data": {
      "text/plain": [
       "1212    good\n",
       "802     good\n",
       "422      bad\n",
       "974     good\n",
       "808     good\n",
       "        ... \n",
       "163      bad\n",
       "486      bad\n",
       "624      bad\n",
       "221     good\n",
       "243      bad\n",
       "Name: mood_category, Length: 254, dtype: object"
      ]
     },
     "execution_count": 10,
     "metadata": {},
     "output_type": "execute_result"
    }
   ],
   "source": [
    "y_test"
   ]
  },
  {
   "cell_type": "code",
   "execution_count": 11,
   "metadata": {},
   "outputs": [
    {
     "data": {
      "image/png": "[encoded data removed]",
      "text/plain": [
       "<Figure size 640x480 with 2 Axes>"
      ]
     },
     "metadata": {},
     "output_type": "display_data"
    }
   ],
   "source": [
    "classify_regress.create_confusion_matrix(y_test, y_pred, save_fig=True)"
   ]
  },
  {
   "cell_type": "code",
   "execution_count": 12,
   "metadata": {},
   "outputs": [
    {
     "ename": "KeyError",
     "evalue": "'variable'",
     "output_type": "error",
     "traceback": [
      "\u001b[0;31m---------------------------------------------------------------------------\u001b[0m",
      "\u001b[0;31mKeyError\u001b[0m                                  Traceback (most recent call last)",
      "File \u001b[0;32m~/anaconda3/lib/python3.11/site-packages/pandas/core/indexes/base.py:3653\u001b[0m, in \u001b[0;36mIndex.get_loc\u001b[0;34m(self, key)\u001b[0m\n\u001b[1;32m   3652\u001b[0m \u001b[38;5;28;01mtry\u001b[39;00m:\n\u001b[0;32m-> 3653\u001b[0m     \u001b[38;5;28;01mreturn\u001b[39;00m \u001b[38;5;28mself\u001b[39m\u001b[38;5;241m.\u001b[39m_engine\u001b[38;5;241m.\u001b[39mget_loc(casted_key)\n\u001b[1;32m   3654\u001b[0m \u001b[38;5;28;01mexcept\u001b[39;00m \u001b[38;5;167;01mKeyError\u001b[39;00m \u001b[38;5;28;01mas\u001b[39;00m err:\n",
      "File \u001b[0;32m~/anaconda3/lib/python3.11/site-packages/pandas/_libs/index.pyx:147\u001b[0m, in \u001b[0;36mpandas._libs.index.IndexEngine.get_loc\u001b[0;34m()\u001b[0m\n",
      "File \u001b[0;32m~/anaconda3/lib/python3.11/site-packages/pandas/_libs/index.pyx:176\u001b[0m, in \u001b[0;36mpandas._libs.index.IndexEngine.get_loc\u001b[0;34m()\u001b[0m\n",
      "File \u001b[0;32mpandas/_libs/hashtable_class_helper.pxi:7080\u001b[0m, in \u001b[0;36mpandas._libs.hashtable.PyObjectHashTable.get_item\u001b[0;34m()\u001b[0m\n",
      "File \u001b[0;32mpandas/_libs/hashtable_class_helper.pxi:7088\u001b[0m, in \u001b[0;36mpandas._libs.hashtable.PyObjectHashTable.get_item\u001b[0;34m()\u001b[0m\n",
      "\u001b[0;31mKeyError\u001b[0m: 'variable'",
      "\nThe above exception was the direct cause of the following exception:\n",
      "\u001b[0;31mKeyError\u001b[0m                                  Traceback (most recent call last)",
      "Cell \u001b[0;32mIn[12], line 1\u001b[0m\n\u001b[0;32m----> 1\u001b[0m history \u001b[38;5;241m=\u001b[39m classify_regress\u001b[38;5;241m.\u001b[39mconduct_RNN(data_clean, predictors)\n",
      "File \u001b[0;32m/courses/Data Mining/DataMining/scripts/classify_regress.py:65\u001b[0m, in \u001b[0;36mconduct_RNN\u001b[0;34m(data, predictors)\u001b[0m\n\u001b[1;32m     61\u001b[0m         ys\u001b[38;5;241m.\u001b[39mappend(y)\n\u001b[1;32m     63\u001b[0m     \u001b[38;5;28;01mreturn\u001b[39;00m np\u001b[38;5;241m.\u001b[39marray(xs), np\u001b[38;5;241m.\u001b[39marray(ys)\n\u001b[0;32m---> 65\u001b[0m mood_data \u001b[38;5;241m=\u001b[39m data[data[\u001b[38;5;124m'\u001b[39m\u001b[38;5;124mvariable\u001b[39m\u001b[38;5;124m'\u001b[39m] \u001b[38;5;241m==\u001b[39m \u001b[38;5;124m'\u001b[39m\u001b[38;5;124mmood\u001b[39m\u001b[38;5;124m'\u001b[39m]\n\u001b[1;32m     66\u001b[0m mood_data_sorted \u001b[38;5;241m=\u001b[39m mood_data\u001b[38;5;241m.\u001b[39msort_values(by\u001b[38;5;241m=\u001b[39m[\u001b[38;5;124m'\u001b[39m\u001b[38;5;124mid\u001b[39m\u001b[38;5;124m'\u001b[39m, \u001b[38;5;124m'\u001b[39m\u001b[38;5;124mtime\u001b[39m\u001b[38;5;124m'\u001b[39m])\n\u001b[1;32m     68\u001b[0m \u001b[38;5;66;03m# Normalize mood values for each subject\u001b[39;00m\n",
      "File \u001b[0;32m~/anaconda3/lib/python3.11/site-packages/pandas/core/frame.py:3761\u001b[0m, in \u001b[0;36mDataFrame.__getitem__\u001b[0;34m(self, key)\u001b[0m\n\u001b[1;32m   3759\u001b[0m \u001b[38;5;28;01mif\u001b[39;00m \u001b[38;5;28mself\u001b[39m\u001b[38;5;241m.\u001b[39mcolumns\u001b[38;5;241m.\u001b[39mnlevels \u001b[38;5;241m>\u001b[39m \u001b[38;5;241m1\u001b[39m:\n\u001b[1;32m   3760\u001b[0m     \u001b[38;5;28;01mreturn\u001b[39;00m \u001b[38;5;28mself\u001b[39m\u001b[38;5;241m.\u001b[39m_getitem_multilevel(key)\n\u001b[0;32m-> 3761\u001b[0m indexer \u001b[38;5;241m=\u001b[39m \u001b[38;5;28mself\u001b[39m\u001b[38;5;241m.\u001b[39mcolumns\u001b[38;5;241m.\u001b[39mget_loc(key)\n\u001b[1;32m   3762\u001b[0m \u001b[38;5;28;01mif\u001b[39;00m is_integer(indexer):\n\u001b[1;32m   3763\u001b[0m     indexer \u001b[38;5;241m=\u001b[39m [indexer]\n",
      "File \u001b[0;32m~/anaconda3/lib/python3.11/site-packages/pandas/core/indexes/base.py:3655\u001b[0m, in \u001b[0;36mIndex.get_loc\u001b[0;34m(self, key)\u001b[0m\n\u001b[1;32m   3653\u001b[0m     \u001b[38;5;28;01mreturn\u001b[39;00m \u001b[38;5;28mself\u001b[39m\u001b[38;5;241m.\u001b[39m_engine\u001b[38;5;241m.\u001b[39mget_loc(casted_key)\n\u001b[1;32m   3654\u001b[0m \u001b[38;5;28;01mexcept\u001b[39;00m \u001b[38;5;167;01mKeyError\u001b[39;00m \u001b[38;5;28;01mas\u001b[39;00m err:\n\u001b[0;32m-> 3655\u001b[0m     \u001b[38;5;28;01mraise\u001b[39;00m \u001b[38;5;167;01mKeyError\u001b[39;00m(key) \u001b[38;5;28;01mfrom\u001b[39;00m \u001b[38;5;21;01merr\u001b[39;00m\n\u001b[1;32m   3656\u001b[0m \u001b[38;5;28;01mexcept\u001b[39;00m \u001b[38;5;167;01mTypeError\u001b[39;00m:\n\u001b[1;32m   3657\u001b[0m     \u001b[38;5;66;03m# If we have a listlike key, _check_indexing_error will raise\u001b[39;00m\n\u001b[1;32m   3658\u001b[0m     \u001b[38;5;66;03m#  InvalidIndexError. Otherwise we fall through and re-raise\u001b[39;00m\n\u001b[1;32m   3659\u001b[0m     \u001b[38;5;66;03m#  the TypeError.\u001b[39;00m\n\u001b[1;32m   3660\u001b[0m     \u001b[38;5;28mself\u001b[39m\u001b[38;5;241m.\u001b[39m_check_indexing_error(key)\n",
      "\u001b[0;31mKeyError\u001b[0m: 'variable'"
     ]
    }
   ],
   "source": [
    "history = classify_regress.conduct_RNN(data_clean, predictors)"
   ]
  },
  {
   "cell_type": "markdown",
   "metadata": {},
   "source": [
    "## Regression"
   ]
  },
  {
   "cell_type": "markdown",
   "metadata": {},
   "source": [
    "**Algorithm 1: Support Vector Regression**"
   ]
  },
  {
   "cell_type": "code",
   "execution_count": null,
   "metadata": {},
   "outputs": [
    {
     "data": {
      "text/plain": [
       "(0.36929108297146174, 0.5114435820102268)"
      ]
     },
     "execution_count": 13,
     "metadata": {},
     "output_type": "execute_result"
    }
   ],
   "source": [
    "mae, r2 = classify_regress.conduct_SVR(data_clean, predictors)\n",
    "mae, r2"
   ]
  },
  {
   "cell_type": "markdown",
   "metadata": {},
   "source": [
    "**Algorithm 2: Stepwise Regression (Forward Selection)**"
   ]
  },
  {
   "cell_type": "code",
   "execution_count": 14,
   "metadata": {},
   "outputs": [
    {
     "data": {
      "text/html": [
       "<table class=\"simpletable\">\n",
       "<caption>OLS Regression Results</caption>\n",
       "<tr>\n",
       "  <th>Dep. Variable:</th>       <td>daily_mood</td>    <th>  R-squared:         </th> <td>   0.751</td>\n",
       "</tr>\n",
       "<tr>\n",
       "  <th>Model:</th>                   <td>OLS</td>       <th>  Adj. R-squared:    </th> <td>   0.750</td>\n",
       "</tr>\n",
       "<tr>\n",
       "  <th>Method:</th>             <td>Least Squares</td>  <th>  F-statistic:       </th> <td>   633.4</td>\n",
       "</tr>\n",
       "<tr>\n",
       "  <th>Date:</th>             <td>Sat, 20 Apr 2024</td> <th>  Prob (F-statistic):</th>  <td>  0.00</td> \n",
       "</tr>\n",
       "<tr>\n",
       "  <th>Time:</th>                 <td>18:16:07</td>     <th>  Log-Likelihood:    </th> <td> -529.75</td>\n",
       "</tr>\n",
       "<tr>\n",
       "  <th>No. Observations:</th>      <td>  1268</td>      <th>  AIC:               </th> <td>   1073.</td>\n",
       "</tr>\n",
       "<tr>\n",
       "  <th>Df Residuals:</th>          <td>  1261</td>      <th>  BIC:               </th> <td>   1110.</td>\n",
       "</tr>\n",
       "<tr>\n",
       "  <th>Df Model:</th>              <td>     6</td>      <th>                     </th>     <td> </td>   \n",
       "</tr>\n",
       "<tr>\n",
       "  <th>Covariance Type:</th>      <td>nonrobust</td>    <th>                     </th>     <td> </td>   \n",
       "</tr>\n",
       "</table>\n",
       "<table class=\"simpletable\">\n",
       "<tr>\n",
       "            <td></td>               <th>coef</th>     <th>std err</th>      <th>t</th>      <th>P>|t|</th>  <th>[0.025</th>    <th>0.975]</th>  \n",
       "</tr>\n",
       "<tr>\n",
       "  <th>Intercept</th>             <td>    3.9574</td> <td>    0.155</td> <td>   25.506</td> <td> 0.000</td> <td>    3.653</td> <td>    4.262</td>\n",
       "</tr>\n",
       "<tr>\n",
       "  <th>mood_category[T.good]</th> <td>    0.6924</td> <td>    0.025</td> <td>   27.861</td> <td> 0.000</td> <td>    0.644</td> <td>    0.741</td>\n",
       "</tr>\n",
       "<tr>\n",
       "  <th>circumplex_valence</th>    <td>    0.7004</td> <td>    0.027</td> <td>   25.629</td> <td> 0.000</td> <td>    0.647</td> <td>    0.754</td>\n",
       "</tr>\n",
       "<tr>\n",
       "  <th>avg_mood</th>              <td>    0.3300</td> <td>    0.022</td> <td>   14.770</td> <td> 0.000</td> <td>    0.286</td> <td>    0.374</td>\n",
       "</tr>\n",
       "<tr>\n",
       "  <th>circumplex_arousal</th>    <td>    0.0610</td> <td>    0.016</td> <td>    3.821</td> <td> 0.000</td> <td>    0.030</td> <td>    0.092</td>\n",
       "</tr>\n",
       "<tr>\n",
       "  <th>appCat_entertainment</th>  <td>   -0.0003</td> <td> 8.71e-05</td> <td>   -3.019</td> <td> 0.003</td> <td>   -0.000</td> <td>-9.22e-05</td>\n",
       "</tr>\n",
       "<tr>\n",
       "  <th>screen</th>                <td>   -0.0003</td> <td>    0.000</td> <td>   -1.982</td> <td> 0.048</td> <td>   -0.001</td> <td>-3.23e-06</td>\n",
       "</tr>\n",
       "</table>\n",
       "<table class=\"simpletable\">\n",
       "<tr>\n",
       "  <th>Omnibus:</th>       <td>162.577</td> <th>  Durbin-Watson:     </th> <td>   1.586</td> \n",
       "</tr>\n",
       "<tr>\n",
       "  <th>Prob(Omnibus):</th> <td> 0.000</td>  <th>  Jarque-Bera (JB):  </th> <td> 730.070</td> \n",
       "</tr>\n",
       "<tr>\n",
       "  <th>Skew:</th>          <td>-0.521</td>  <th>  Prob(JB):          </th> <td>2.93e-159</td>\n",
       "</tr>\n",
       "<tr>\n",
       "  <th>Kurtosis:</th>      <td> 6.568</td>  <th>  Cond. No.          </th> <td>2.43e+03</td> \n",
       "</tr>\n",
       "</table><br/><br/>Notes:<br/>[1] Standard Errors assume that the covariance matrix of the errors is correctly specified.<br/>[2] The condition number is large, 2.43e+03. This might indicate that there are<br/>strong multicollinearity or other numerical problems."
      ],
      "text/latex": [
       "\\begin{center}\n",
       "\\begin{tabular}{lclc}\n",
       "\\toprule\n",
       "\\textbf{Dep. Variable:}         &   daily\\_mood    & \\textbf{  R-squared:         } &     0.751   \\\\\n",
       "\\textbf{Model:}                 &       OLS        & \\textbf{  Adj. R-squared:    } &     0.750   \\\\\n",
       "\\textbf{Method:}                &  Least Squares   & \\textbf{  F-statistic:       } &     633.4   \\\\\n",
       "\\textbf{Date:}                  & Sat, 20 Apr 2024 & \\textbf{  Prob (F-statistic):} &     0.00    \\\\\n",
       "\\textbf{Time:}                  &     18:16:07     & \\textbf{  Log-Likelihood:    } &   -529.75   \\\\\n",
       "\\textbf{No. Observations:}      &        1268      & \\textbf{  AIC:               } &     1073.   \\\\\n",
       "\\textbf{Df Residuals:}          &        1261      & \\textbf{  BIC:               } &     1110.   \\\\\n",
       "\\textbf{Df Model:}              &           6      & \\textbf{                     } &             \\\\\n",
       "\\textbf{Covariance Type:}       &    nonrobust     & \\textbf{                     } &             \\\\\n",
       "\\bottomrule\n",
       "\\end{tabular}\n",
       "\\begin{tabular}{lcccccc}\n",
       "                                & \\textbf{coef} & \\textbf{std err} & \\textbf{t} & \\textbf{P$> |$t$|$} & \\textbf{[0.025} & \\textbf{0.975]}  \\\\\n",
       "\\midrule\n",
       "\\textbf{Intercept}              &       3.9574  &        0.155     &    25.506  &         0.000        &        3.653    &        4.262     \\\\\n",
       "\\textbf{mood\\_category[T.good]} &       0.6924  &        0.025     &    27.861  &         0.000        &        0.644    &        0.741     \\\\\n",
       "\\textbf{circumplex\\_valence}    &       0.7004  &        0.027     &    25.629  &         0.000        &        0.647    &        0.754     \\\\\n",
       "\\textbf{avg\\_mood}              &       0.3300  &        0.022     &    14.770  &         0.000        &        0.286    &        0.374     \\\\\n",
       "\\textbf{circumplex\\_arousal}    &       0.0610  &        0.016     &     3.821  &         0.000        &        0.030    &        0.092     \\\\\n",
       "\\textbf{appCat\\_entertainment}  &      -0.0003  &     8.71e-05     &    -3.019  &         0.003        &       -0.000    &    -9.22e-05     \\\\\n",
       "\\textbf{screen}                 &      -0.0003  &        0.000     &    -1.982  &         0.048        &       -0.001    &    -3.23e-06     \\\\\n",
       "\\bottomrule\n",
       "\\end{tabular}\n",
       "\\begin{tabular}{lclc}\n",
       "\\textbf{Omnibus:}       & 162.577 & \\textbf{  Durbin-Watson:     } &     1.586  \\\\\n",
       "\\textbf{Prob(Omnibus):} &   0.000 & \\textbf{  Jarque-Bera (JB):  } &   730.070  \\\\\n",
       "\\textbf{Skew:}          &  -0.521 & \\textbf{  Prob(JB):          } & 2.93e-159  \\\\\n",
       "\\textbf{Kurtosis:}      &   6.568 & \\textbf{  Cond. No.          } &  2.43e+03  \\\\\n",
       "\\bottomrule\n",
       "\\end{tabular}\n",
       "%\\caption{OLS Regression Results}\n",
       "\\end{center}\n",
       "\n",
       "Notes: \\newline\n",
       " [1] Standard Errors assume that the covariance matrix of the errors is correctly specified. \\newline\n",
       " [2] The condition number is large, 2.43e+03. This might indicate that there are \\newline\n",
       " strong multicollinearity or other numerical problems."
      ],
      "text/plain": [
       "<class 'statsmodels.iolib.summary.Summary'>\n",
       "\"\"\"\n",
       "                            OLS Regression Results                            \n",
       "==============================================================================\n",
       "Dep. Variable:             daily_mood   R-squared:                       0.751\n",
       "Model:                            OLS   Adj. R-squared:                  0.750\n",
       "Method:                 Least Squares   F-statistic:                     633.4\n",
       "Date:                Sat, 20 Apr 2024   Prob (F-statistic):               0.00\n",
       "Time:                        18:16:07   Log-Likelihood:                -529.75\n",
       "No. Observations:                1268   AIC:                             1073.\n",
       "Df Residuals:                    1261   BIC:                             1110.\n",
       "Df Model:                           6                                         \n",
       "Covariance Type:            nonrobust                                         \n",
       "=========================================================================================\n",
       "                            coef    std err          t      P>|t|      [0.025      0.975]\n",
       "-----------------------------------------------------------------------------------------\n",
       "Intercept                 3.9574      0.155     25.506      0.000       3.653       4.262\n",
       "mood_category[T.good]     0.6924      0.025     27.861      0.000       0.644       0.741\n",
       "circumplex_valence        0.7004      0.027     25.629      0.000       0.647       0.754\n",
       "avg_mood                  0.3300      0.022     14.770      0.000       0.286       0.374\n",
       "circumplex_arousal        0.0610      0.016      3.821      0.000       0.030       0.092\n",
       "appCat_entertainment     -0.0003   8.71e-05     -3.019      0.003      -0.000   -9.22e-05\n",
       "screen                   -0.0003      0.000     -1.982      0.048      -0.001   -3.23e-06\n",
       "==============================================================================\n",
       "Omnibus:                      162.577   Durbin-Watson:                   1.586\n",
       "Prob(Omnibus):                  0.000   Jarque-Bera (JB):              730.070\n",
       "Skew:                          -0.521   Prob(JB):                    2.93e-159\n",
       "Kurtosis:                       6.568   Cond. No.                     2.43e+03\n",
       "==============================================================================\n",
       "\n",
       "Notes:\n",
       "[1] Standard Errors assume that the covariance matrix of the errors is correctly specified.\n",
       "[2] The condition number is large, 2.43e+03. This might indicate that there are\n",
       "strong multicollinearity or other numerical problems.\n",
       "\"\"\""
      ]
     },
     "execution_count": 14,
     "metadata": {},
     "output_type": "execute_result"
    }
   ],
   "source": [
    "forward_model = classify_regress.forward_selection(data_clean, 'daily_mood')\n",
    "forward_model.summary()"
   ]
  },
  {
   "cell_type": "code",
   "execution_count": null,
   "metadata": {},
   "outputs": [],
   "source": []
  }
 ],
 "metadata": {
  "kernelspec": {
   "display_name": "base",
   "language": "python",
   "name": "python3"
  },
  "language_info": {
   "codemirror_mode": {
    "name": "ipython",
    "version": 3
   },
   "file_extension": ".py",
   "mimetype": "text/x-python",
   "name": "python",
   "nbconvert_exporter": "python",
   "pygments_lexer": "ipython3",
   "version": "3.11.5"
  }
 },
 "nbformat": 4,
 "nbformat_minor": 2
}
